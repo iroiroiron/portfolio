{
 "cells": [
  {
   "cell_type": "code",
   "execution_count": 1,
   "id": "909c0b80-6d45-4322-a4ee-35848f740b52",
   "metadata": {},
   "outputs": [],
   "source": [
    "%matplotlib inline\n",
    "import numpy as np\n",
    "import pandas as pd\n",
    "import random\n",
    "import time\n",
    "import copy\n",
    "import csv\n",
    "import math\n",
    "import datetime\n",
    "import os\n",
    "import matplotlib.pyplot as plt\n",
    "from tqdm.notebook import tqdm\n",
    "from sklearn.metrics.cluster import adjusted_rand_score\n",
    "from sklearn.metrics import mean_absolute_error\n",
    "from sklearn.metrics import mean_squared_error\n",
    "from sklearn.metrics import r2_score\n",
    "from scipy import linalg\n",
    "\n",
    "\n",
    "#-------------------\n",
    "class Data:\n",
    "    def __init__(self,x,y,u,id):\n",
    "        self.x = x\n",
    "        self.y = y\n",
    "        self.u = u #抽出クラスタかノイズクラスタかどうか\n",
    "        self.cluster_number = 0 #最終的なクラスタ番号\n",
    "        self.id = id\n",
    "#-------------------"
   ]
  },
  {
   "cell_type": "code",
   "execution_count": 38,
   "id": "12e262cf-7288-4a57-a199-f67f0dc719dc",
   "metadata": {},
   "outputs": [],
   "source": [
    "class SCRM:\n",
    "    #-------------------\n",
    "    # コンストラクタ\n",
    "    # max_iter: 最大ループ回数．無限ループ阻止用\n",
    "    # random_seed: シード値\n",
    "    def __init__(self,X,Y,lam,labels,random_seed):\n",
    "        self.X = X\n",
    "        self.Y = Y\n",
    "        self.lam = lam\n",
    "        self.labels = labels\n",
    "        self.max_iter = 1000\n",
    "        self.random_seed = random_seed\n",
    "        np.random.seed(random_seed)\n",
    "    #-------------------\n",
    "    \n",
    "    #-------------------\n",
    "    # データと回帰線をプロット\n",
    "    # \n",
    "    def plot(self,path,model):\n",
    "        N = model.X.shape[0]\n",
    "        colors = [\"b\",\"r\",\"g\",\"c\",\"m\",\"y\",\"k\",\"w\"]\n",
    "        markers = [\"o\",\"+\",\"x\",\"v\",\"＊\", \"^\", \"<\", \">\"]\n",
    "        x = np.arange(np.amin(model.X),np.amax(model.X) + 1)\n",
    "        y = []\n",
    "        #クラスタ数個分の回帰線をbeta_listを基に作成\n",
    "        for i in range(model.n_cluster): \n",
    "            y.append(model.ex_beta_list[i][0] * x + model.ex_beta_list[i][1])\n",
    "        y = np.array(y)\n",
    "        plt.figure(figsize=(5,5))\n",
    "        plt.xlim(np.min(model.X)-1,np.max(model.X)+1,1)\n",
    "        plt.ylim(np.min(model.Y)-1,np.max(model.Y)+1,1)\n",
    "        plt.xlabel(\"x\")\n",
    "        plt.ylabel(\"y\")\n",
    "        #クラスタ番号ごとにデータ点をプロット\n",
    "        for i in range(N):\n",
    "            plt.scatter(model.ex_data_list[i].x,model.ex_data_list[i].y,marker=markers[model.ex_data_list[i].cluster_number],s=35,c = colors[model.ex_data_list[i].cluster_number])\n",
    "        #クラスタごとに回帰線をプロット\n",
    "        for i in range(model.n_cluster):\n",
    "            plt.plot(x, y[i] , c = colors[i])\n",
    "        #pathにpngファイルを保存\n",
    "        plt.savefig(os.path.join(path)+\"figure.png\")\n",
    "        plt.show()\n",
    "    #-------------------\n",
    "    \n",
    "    #--------------------\n",
    "    #data_listからX,Yのリストを取り出す\n",
    "    def make_XY_list(self,data_list):\n",
    "        X = []\n",
    "        Y = []\n",
    "        for k in range(len(data_list)):\n",
    "            X.append(data_list[k].x)\n",
    "            Y.append(data_list[k].y)\n",
    "        X = np.array(X).reshape(len(X),1)\n",
    "        Y = np.array(Y).reshape(len(Y),1)\n",
    "        return X,Y\n",
    "    #-------------------\n",
    "    \n",
    "    #--------------------\n",
    "    #data_listから抽出クラスタに属するX,Yを取り出す\n",
    "    def make_extraction_XY_list(self,data_list):\n",
    "        X = []\n",
    "        Y = []\n",
    "        for k in range(len(data_list)):\n",
    "            if data_list[k].u == 1:\n",
    "                X.append(data_list[k].x)\n",
    "                Y.append(data_list[k].y)\n",
    "        X = np.array(X).reshape(len(X),1)\n",
    "        Y = np.array(Y).reshape(len(Y),1)\n",
    "        return X,Y\n",
    "    #-------------------\n",
    "        \n",
    "    #-------------------\n",
    "    # data_listの帰属度から\n",
    "    def calc_beta_list(self,data_list):\n",
    "        X,Y = self.make_extraction_XY_list(data_list)\n",
    "        beta_list = []\n",
    "        ones = np.ones([len(X),1])\n",
    "        X = np.concatenate((X,ones), axis = 1)\n",
    "        beta_matrix = np.linalg.pinv(X.T @ X) @ X.T @ Y\n",
    "        return beta_matrix\n",
    "    #-------------------\n",
    "    \n",
    "    #-------------------\n",
    "    def update_U(self,data_list,noise_param,beta_list):\n",
    "        X,Y = self.make_XY_list(data_list)\n",
    "        for k in range(len(data_list)):\n",
    "            distance = (Y[k] - (beta_list[0]*X[k] + beta_list[1]))**2\n",
    "            if distance <= noise_param:\n",
    "                data_list[k].u = 1\n",
    "            else:\n",
    "                data_list[k].u = 0\n",
    "    #-------------------\n",
    "    \n",
    "    #-------------------\n",
    "    def calc_noise_param(self,data_list,beta_list,noise_param,lam):\n",
    "        N = len(data_list)\n",
    "        residual_sum = 0\n",
    "        for k in range(N):\n",
    "            if data_list[k].u == 1:\n",
    "                residual_sum += (data_list[k].y - (beta_list[0] * data_list[k].x + beta_list[1]))**2\n",
    "            else:\n",
    "                residual_sum += noise_param\n",
    "        #print(\"残差の和:\",residual_sum) \n",
    "        return lam * residual_sum / N    \n",
    "    #-------------------\n",
    "    \n",
    "    #-------------------\n",
    "    def sort_ex_data_list(self):\n",
    "        N = len(self.ex_data_list)\n",
    "        for i in range(N):\n",
    "            swap = False\n",
    "            for j in range(N-1,i,-1):\n",
    "                if self.ex_data_list[j-1].id > self.ex_data_list[j].id:\n",
    "                    self.ex_data_list[j-1],self.ex_data_list[j] = self.ex_data_list[j],self.ex_data_list[j-1]\n",
    "                    swap = True\n",
    "            if swap == False:\n",
    "                break\n",
    "    #-------------------\n",
    "\n",
    "    #-------------------\n",
    "    def calc_ARI(self):\n",
    "        #dataIDに基づいて，ex_data_listをソートする．\n",
    "        self.sort_ex_data_list()\n",
    "        \n",
    "        N = len(self.ex_data_list)\n",
    "        predict_labels = np.zeros([N])\n",
    "        for k in range(N):\n",
    "                predict_labels[k] = self.ex_data_list[k].cluster_number\n",
    "        # print(\"正解ラベル\",self.labels)\n",
    "        # print(self.labels.shape)\n",
    "        # print(\"U_list:\",predict_labels)\n",
    "        # print(predict_labels.shape)\n",
    "        ARI = adjusted_rand_score(self.labels,predict_labels)\n",
    "        return round(ARI,5)\n",
    "    #-------------------\n",
    "    \n",
    "    #-------------------\n",
    "    def calc_MAE(self,data_list,beta_list):\n",
    "        y_true = []\n",
    "        y_pred = []\n",
    "        for i in range(len(data_list)):\n",
    "            if(data_list[i].u == 1):\n",
    "                y_true.append(data_list[i].y)\n",
    "                y_pred.append(beta_list[0] * data_list[i].x + beta_list[1])\n",
    "        return round(np.sqrt(mean_absolute_error(y_true, y_pred)),5)\n",
    "    #-------------------\n",
    "    \n",
    "    #-------------------\n",
    "    def calc_RMSE(self,data_list,beta_list):\n",
    "        y_true = []\n",
    "        y_pred = []\n",
    "        for i in range(len(data_list)):\n",
    "            if(data_list[i].u == 1):\n",
    "                y_true.append(data_list[i].y)\n",
    "                y_pred.append(beta_list[0] * data_list[i].x + beta_list[1])\n",
    "        return round(np.sqrt(mean_squared_error(y_true, y_pred)),5)\n",
    "    #-------------------\n",
    "    \n",
    "    #-------------------\n",
    "    def calc_r2_score(self,data_list,beta_list):\n",
    "        y_true = []\n",
    "        y_pred = []\n",
    "        for i in range(len(data_list)):\n",
    "            if(data_list[i].u == 1):\n",
    "                y_true.append(data_list[i].y)\n",
    "                y_pred.append(beta_list[0] * data_list[i].x + beta_list[1])\n",
    "        return round(r2_score(y_true, y_pred) ,5)\n",
    "    #-------------------\n",
    "   \n",
    "    #-------------------\n",
    "    def print_info(self,model,time):\n",
    "        print(\"クラスタ数:\",model.n_cluster)\n",
    "        print(\"ARIの値:\",model.ARI)\n",
    "        print(\"RMSEの値:\",model.RMSE_list)\n",
    "        print(\"MAEの値:\",model.MAE_list)\n",
    "        print(\"r2scoreの値:\",model.r2_score_list)\n",
    "        print(\"実行時間:\",time) \n",
    "        print(\"\")\n",
    "    #-------------------\n",
    "    def log_save(self,path,model,time):\n",
    "        d_today = datetime.date.today()\n",
    "        d_now = datetime.datetime.now()\n",
    "        f = open(path + \"log.txt\", 'w')\n",
    "        f.write(\"実験に使用した記録まとめ\\n\")\n",
    "        f.write(str(d_now) + \"\\n\")\n",
    "        f.write(\"クラスタ数:\" + str(self.n_cluster) + \"\\n\")\n",
    "        f.write(\"ノイズパラメータ:\" + str(model.lam) +\"\\n\")\n",
    "        f.write(\"ARIの値:\" + str(model.ARI) + \"\\n\")\n",
    "        f.write(\"RMSEの値:\" + str(model.RMSE_list) + \"\\n\")\n",
    "        f.write(\"MAEの値:\" + str(model.MAE_list) + \"\\n\")\n",
    "        f.write(\"r2_scoreの値:\" + str(model.r2_score_list) + \"\\n\")\n",
    "        f.write(\"実行時間:\" + str(time) + \"\\n\")\n",
    "        f.write(\"random_seed値:\" + str(self.random_seed) +\"\\n\") \n",
    "        f.close()\n",
    "    #-------------------\n",
    "    \n",
    "    #-------------------\n",
    "    def progress_plot(self,beta_list,data_list):\n",
    "        X,Y = self.make_XY_list(data_list)\n",
    "        x = np.arange(np.amin(X),np.amax(X) + 1)\n",
    "        y = []\n",
    "        y.append(beta_list[0] * x + beta_list[1])\n",
    "        c = [\"r\",\"b\"]\n",
    "        markers = [\"+\",\"o\"]\n",
    "        plt.figure(figsize=(5,5))\n",
    "        plt.xlim(np.min(X)-1,np.max(X)+1,1)\n",
    "        plt.ylim(np.min(Y)-1,np.max(Y)+1,1)\n",
    "        plt.xlabel(\"x\")\n",
    "        plt.ylabel(\"y\")\n",
    "        for k in range(len(data_list)):\n",
    "            plt.scatter(X[k],Y[k],marker=markers[data_list[k].u],s=35,edgecolor='k',c = c[data_list[k].u])\n",
    "        plt.plot(x,y[0],c = c[1])\n",
    "        plt.show()\n",
    "    #-------------------\n",
    "    \n",
    "    #-------------------\n",
    "    def fit(self):\n",
    "        #抽出したdataを格納するリスト\n",
    "        self.ex_data_list = []\n",
    "        #抽出したdataの回帰パラメータに関するリスト\n",
    "        self.ex_beta_list = []\n",
    "        #抽出したdataに関する帰属度Uを格納するリスト\n",
    "        self.ex_U_list = []\n",
    "        #data_listに属するクラスタ番号\n",
    "        self.n_cluster = 1\n",
    "        self.MAE_list = []\n",
    "        self.RMSE_list = []\n",
    "        self.r2_score_list = []\n",
    "        self.ARI = 0\n",
    "        #今までに抽出したクラスタ数\n",
    "        cluster_number = 0\n",
    "        #初期ノイズパラメータ\n",
    "        noise_param = 0\n",
    "        \n",
    "        #data_listを作成．ここで，Dataクラスを初期化する．\n",
    "        data_list = []\n",
    "        for i in range(self.X.shape[0]):\n",
    "            data = Data(self.X[i],self.Y[i],1,i)\n",
    "            data_list.append(data)\n",
    "        \n",
    "        while True:\n",
    "            N = len(data_list)\n",
    "            U = np.zeros([2,N])\n",
    "            beta_list = []\n",
    "            temp_data_list = []\n",
    "            \n",
    "            #帰属度を0か1にランダムに設定する\n",
    "            #0:ノイズクラスタ\n",
    "            #1:抽出クラスタ\n",
    "            for i in range(N):\n",
    "                data_list[i].u = np.random.randint(2)\n",
    "                \n",
    "            #ノイズパラメータを初期化する\n",
    "            beta_list = self.calc_beta_list(data_list)\n",
    "            noise_param = self.calc_noise_param(data_list,beta_list,noise_param,self.lam)\n",
    "            \n",
    "            #とりあえず300回\n",
    "            for i in tqdm(range(300)):\n",
    "                #if (i % 100 ) == 0:\n",
    "                    #print(i,\"回目の実行\") \n",
    "                    #self.progress_plot(beta_list,data_list)\n",
    "                #回帰パラメータを更新\n",
    "                beta_list = self.calc_beta_list(data_list)\n",
    "                #帰属度Uを更新\n",
    "                self.update_U(data_list,noise_param,beta_list)\n",
    "            \n",
    "            #回帰パラメータのリストを追加\n",
    "            self.ex_beta_list.append(beta_list)\n",
    "            \n",
    "            self.MAE_list.append(self.calc_MAE(data_list,beta_list))\n",
    "            self.RMSE_list.append(self.calc_RMSE(data_list,beta_list))\n",
    "            #self.r2_score_list.append(self.calc_r2_score(data_list,beta_list))\n",
    "            #抽出したクラスタのみをプロットする\n",
    "            #self.progress_plot(beta_list,data_list)\n",
    "            \n",
    "            #抽出クラスタに属するデータのみを取り出す。\n",
    "            for i in range(N):\n",
    "                #u=0の場合，仮のリストに保存\n",
    "                if data_list[i].u == 0:\n",
    "                    temp_data_list.append(data_list[i])\n",
    "                #u=1の場合，クラスタ番号を登録して抽出．\n",
    "                if data_list[i].u == 1: \n",
    "                    data_list[i].cluster_number = cluster_number\n",
    "                    self.ex_data_list.append(data_list[i])\n",
    "            data_list = temp_data_list\n",
    "            \n",
    "            #データが空になれば終了\n",
    "            if len(data_list) == 0:\n",
    "                break\n",
    "                \n",
    "            #cluster_number：data_listに属するクラスタ番号\n",
    "            #n_cluster：今までに抽出したクラスタ数\n",
    "            cluster_number += 1\n",
    "            self.n_cluster += 1\n",
    "            \n",
    "        #ARIを計算\n",
    "        self.ARI = self.calc_ARI()\n",
    "    #-------------------\n",
    "    #-------------------"
   ]
  },
  {
   "cell_type": "code",
   "execution_count": 54,
   "id": "786477ae-0d05-42ab-8ad4-796f913fc02b",
   "metadata": {},
   "outputs": [
    {
     "name": "stdout",
     "output_type": "stream",
     "text": [
      "1回目の実行\n"
     ]
    },
    {
     "data": {
      "application/vnd.jupyter.widget-view+json": {
       "model_id": "525f9c07090d46c6acc6aef474a4da10",
       "version_major": 2,
       "version_minor": 0
      },
      "text/plain": [
       "  0%|          | 0/300 [00:00<?, ?it/s]"
      ]
     },
     "metadata": {},
     "output_type": "display_data"
    },
    {
     "data": {
      "application/vnd.jupyter.widget-view+json": {
       "model_id": "77ffb52055ea44a989697b4f7e3d9e65",
       "version_major": 2,
       "version_minor": 0
      },
      "text/plain": [
       "  0%|          | 0/300 [00:00<?, ?it/s]"
      ]
     },
     "metadata": {},
     "output_type": "display_data"
    },
    {
     "data": {
      "application/vnd.jupyter.widget-view+json": {
       "model_id": "ae51a42880434942b9d447a0dbd96cf7",
       "version_major": 2,
       "version_minor": 0
      },
      "text/plain": [
       "  0%|          | 0/300 [00:00<?, ?it/s]"
      ]
     },
     "metadata": {},
     "output_type": "display_data"
    },
    {
     "data": {
      "image/png": "[encoded data removed]",
      "text/plain": [
       "<Figure size 360x360 with 1 Axes>"
      ]
     },
     "metadata": {
      "needs_background": "light"
     },
     "output_type": "display_data"
    },
    {
     "name": "stdout",
     "output_type": "stream",
     "text": [
      "クラスタ数: 3\n",
      "ARIの値: 0.80991\n",
      "RMSEの値: [0.49481, 0.476, 0.0]\n",
      "MAEの値: [0.59544, 0.58675, 0.0]\n",
      "r2scoreの値: []\n",
      "実行時間: 0.25363683700561523\n",
      "\n",
      "2回目の実行\n"
     ]
    },
    {
     "data": {
      "application/vnd.jupyter.widget-view+json": {
       "model_id": "698d77d521a24b1380fb790fa379427f",
       "version_major": 2,
       "version_minor": 0
      },
      "text/plain": [
       "  0%|          | 0/300 [00:00<?, ?it/s]"
      ]
     },
     "metadata": {},
     "output_type": "display_data"
    },
    {
     "data": {
      "application/vnd.jupyter.widget-view+json": {
       "model_id": "67d3bca45c1243c599b251e2bc24ba71",
       "version_major": 2,
       "version_minor": 0
      },
      "text/plain": [
       "  0%|          | 0/300 [00:00<?, ?it/s]"
      ]
     },
     "metadata": {},
     "output_type": "display_data"
    },
    {
     "data": {
      "application/vnd.jupyter.widget-view+json": {
       "model_id": "d76644beaa0a4a05ad6ce9095a0866bf",
       "version_major": 2,
       "version_minor": 0
      },
      "text/plain": [
       "  0%|          | 0/300 [00:00<?, ?it/s]"
      ]
     },
     "metadata": {},
     "output_type": "display_data"
    },
    {
     "data": {
      "image/png": "[encoded data removed]",
      "text/plain": [
       "<Figure size 360x360 with 1 Axes>"
      ]
     },
     "metadata": {
      "needs_background": "light"
     },
     "output_type": "display_data"
    },
    {
     "name": "stdout",
     "output_type": "stream",
     "text": [
      "クラスタ数: 3\n",
      "ARIの値: 0.83829\n",
      "RMSEの値: [0.53677, 0.476, 0.0]\n",
      "MAEの値: [0.61621, 0.58675, 0.0]\n",
      "r2scoreの値: []\n",
      "実行時間: 0.23467206954956055\n",
      "\n",
      "3回目の実行\n"
     ]
    },
    {
     "data": {
      "application/vnd.jupyter.widget-view+json": {
       "model_id": "5371511c63c6404a81f7fc97a1aeed3a",
       "version_major": 2,
       "version_minor": 0
      },
      "text/plain": [
       "  0%|          | 0/300 [00:00<?, ?it/s]"
      ]
     },
     "metadata": {},
     "output_type": "display_data"
    },
    {
     "data": {
      "application/vnd.jupyter.widget-view+json": {
       "model_id": "fa8f3d535d63416a91c9783d61c44740",
       "version_major": 2,
       "version_minor": 0
      },
      "text/plain": [
       "  0%|          | 0/300 [00:00<?, ?it/s]"
      ]
     },
     "metadata": {},
     "output_type": "display_data"
    },
    {
     "data": {
      "application/vnd.jupyter.widget-view+json": {
       "model_id": "10e2b5dc17124f958412006bc68b29c9",
       "version_major": 2,
       "version_minor": 0
      },
      "text/plain": [
       "  0%|          | 0/300 [00:00<?, ?it/s]"
      ]
     },
     "metadata": {},
     "output_type": "display_data"
    },
    {
     "data": {
      "image/png": "[encoded data removed]",
      "text/plain": [
       "<Figure size 360x360 with 1 Axes>"
      ]
     },
     "metadata": {
      "needs_background": "light"
     },
     "output_type": "display_data"
    },
    {
     "name": "stdout",
     "output_type": "stream",
     "text": [
      "クラスタ数: 3\n",
      "ARIの値: 0.83829\n",
      "RMSEの値: [0.53677, 0.476, 0.0]\n",
      "MAEの値: [0.61621, 0.58675, 0.0]\n",
      "r2scoreの値: []\n",
      "実行時間: 0.22604107856750488\n",
      "\n",
      "4回目の実行\n"
     ]
    },
    {
     "data": {
      "application/vnd.jupyter.widget-view+json": {
       "model_id": "c8ced0a71e0c4396b6d2bef2f643f642",
       "version_major": 2,
       "version_minor": 0
      },
      "text/plain": [
       "  0%|          | 0/300 [00:00<?, ?it/s]"
      ]
     },
     "metadata": {},
     "output_type": "display_data"
    },
    {
     "data": {
      "application/vnd.jupyter.widget-view+json": {
       "model_id": "25ecdcffe2a648cabadfbba4ecd68274",
       "version_major": 2,
       "version_minor": 0
      },
      "text/plain": [
       "  0%|          | 0/300 [00:00<?, ?it/s]"
      ]
     },
     "metadata": {},
     "output_type": "display_data"
    },
    {
     "data": {
      "application/vnd.jupyter.widget-view+json": {
       "model_id": "7ed67f1bf8124a04b9d42209c6bdacb9",
       "version_major": 2,
       "version_minor": 0
      },
      "text/plain": [
       "  0%|          | 0/300 [00:00<?, ?it/s]"
      ]
     },
     "metadata": {},
     "output_type": "display_data"
    },
    {
     "data": {
      "image/png": "[encoded data removed]",
      "text/plain": [
       "<Figure size 360x360 with 1 Axes>"
      ]
     },
     "metadata": {
      "needs_background": "light"
     },
     "output_type": "display_data"
    },
    {
     "name": "stdout",
     "output_type": "stream",
     "text": [
      "クラスタ数: 3\n",
      "ARIの値: 0.83829\n",
      "RMSEの値: [0.53677, 0.476, 0.0]\n",
      "MAEの値: [0.61621, 0.58675, 0.0]\n",
      "r2scoreの値: []\n",
      "実行時間: 0.2466738224029541\n",
      "\n"
     ]
    },
    {
     "data": {
      "image/png": "[encoded data removed]",
      "text/plain": [
       "<Figure size 360x360 with 1 Axes>"
      ]
     },
     "metadata": {
      "needs_background": "light"
     },
     "output_type": "display_data"
    },
    {
     "data": {
      "image/png": "[encoded data removed]",
      "text/plain": [
       "<Figure size 360x360 with 1 Axes>"
      ]
     },
     "metadata": {
      "needs_background": "light"
     },
     "output_type": "display_data"
    },
    {
     "data": {
      "image/png": "[encoded data removed]",
      "text/plain": [
       "<Figure size 360x360 with 1 Axes>"
      ]
     },
     "metadata": {
      "needs_background": "light"
     },
     "output_type": "display_data"
    },
    {
     "data": {
      "image/png": "[encoded data removed]",
      "text/plain": [
       "<Figure size 360x360 with 1 Axes>"
      ]
     },
     "metadata": {
      "needs_background": "light"
     },
     "output_type": "display_data"
    }
   ],
   "source": [
    "#-------------------\n",
    "\n",
    "def make_path(model,data_name,main_path):\n",
    "    folder_name =  \"クラスタ数\" + str(model.n_cluster)+ \"ARI\"+ str(round(model.ARI,4)) + \"ラムダ\" + str(round(model.lam,2)) + \"シード値\" + str(model.random_seed)\n",
    "    my_makedirs(main_path + \"/\" +folder_name)\n",
    "    return main_path + \"/\"  + folder_name + \"/\"\n",
    "#-------------------\n",
    "\n",
    "\n",
    "\n",
    "#-------------------\n",
    "def my_makedirs(path):\n",
    "    if not os.path.isdir(path):\n",
    "        os.makedirs(path)\n",
    "#-------------------\n",
    "\n",
    "def plot(x,y,x_name,y_name,main_path):\n",
    "    plt.figure(figsize=(5,5))\n",
    "    plt.plot(x,y)\n",
    "    plt.xlabel(x_name)\n",
    "    plt.ylabel(y_name)\n",
    "    plt.tight_layout()\n",
    "    plt.savefig(os.path.join(main_path) + x_name +  \"-\" + y_name +\".png\")\n",
    "    plt.show()\n",
    "#-------------------\n",
    "\n",
    "def RMSE_plot(lam_list,ex_RMSE_list,main_path):\n",
    "    N = 3\n",
    "    #バグ防止用処置 回帰線が2個以下の場合\n",
    "    for i in range(len(ex_RMSE_list)):\n",
    "        if len(ex_RMSE_list[i]) < 3:\n",
    "            N = 2\n",
    "                \n",
    "    RMSE_list = np.zeros([N,len(lam_list)])\n",
    "    for i in range(N):\n",
    "        for k in range(len(lam_list)):\n",
    "            RMSE_list[i,k] = ex_RMSE_list[k][i]\n",
    "        plot(lam_list,RMSE_list[:][i],\"Lambda\",\"RMSE\"+str(i+1),main_path)\n",
    "#-------------------\n",
    "def main():\n",
    "    \n",
    "    lam_list = np.arange(1.4,1.7,0.1)\n",
    "    #lam_list = [2]\n",
    "    random_list = np.arange(1,100,1)\n",
    "    ARI_list = []\n",
    "    ex_RMSE_list = []\n",
    "    #dataのパスを作成\n",
    "    data_name = \"data16\"\n",
    "    my_makedirs(\"./SCRM_result/\" + data_name )\n",
    "    my_makedirs(\"./SCRM_result/\" + data_name + \"/\" + str(datetime.date.today()))\n",
    "    main_path = \"./SCRM_result/\" + data_name + \"/\" + str(datetime.date.today())\n",
    "                \n",
    "    data = np.loadtxt(\"./data/\"+ data_name +\"/data.txt\", dtype=float)\n",
    "    X = data[0, :]\n",
    "    Y = data[1, :]\n",
    "    labels = np.loadtxt(\"data/\"+ data_name +\"/labels.txt\")\n",
    "    labels = np.array(labels)\n",
    "    \n",
    "    count = 1\n",
    "    for i in range(len(lam_list)):\n",
    "        #for seed in tqdm(range(len(random_list))):\n",
    "        print(str(count) + \"回目の実行\") \n",
    "        t1 = time.time()\n",
    "        model = SCRM(X,Y,lam_list[i],labels,10)\n",
    "        pred_labels = model.fit()\n",
    "        t2 = time.time()\n",
    "        path = make_path(model,data_name,main_path)\n",
    "        model.plot(path,model)\n",
    "        model.print_info(model,t2-t1)\n",
    "        model.log_save(path,model,t2-t1)\n",
    "        ARI_list.append(model.ARI)\n",
    "        ex_RMSE_list.append(model.RMSE_list)\n",
    "        count += 1\n",
    "    path = result_path(data_name)\n",
    "    plot(lam_list,ARI_list,\"Lambda\",\"ARI\",main_path)\n",
    "    RMSE_plot(lam_list,ex_RMSE_list,main_path)\n",
    "    \n",
    "#-------------------\n",
    "\n",
    "#-------------------\n",
    "if __name__ == \"__main__\":\n",
    "    main()\n",
    "#-------------------"
   ]
  },
  {
   "cell_type": "code",
   "execution_count": null,
   "id": "f0438a1e-aa60-4905-b4f6-5cb6df631823",
   "metadata": {},
   "outputs": [],
   "source": []
  }
 ],
 "metadata": {
  "kernelspec": {
   "display_name": "Python 3",
   "language": "python",
   "name": "python3"
  },
  "language_info": {
   "codemirror_mode": {
    "name": "ipython",
    "version": 3
   },
   "file_extension": ".py",
   "mimetype": "text/x-python",
   "name": "python",
   "nbconvert_exporter": "python",
   "pygments_lexer": "ipython3",
   "version": "3.9.1"
  }
 },
 "nbformat": 4,
 "nbformat_minor": 5
}
