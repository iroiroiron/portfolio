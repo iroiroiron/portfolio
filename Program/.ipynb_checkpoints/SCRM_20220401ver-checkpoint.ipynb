{
 "cells": [
  {
   "cell_type": "code",
   "execution_count": 1,
   "id": "f44557f5",
   "metadata": {},
   "outputs": [],
   "source": [
    "%matplotlib inline\n",
    "import numpy as np\n",
    "import pandas as pd\n",
    "import random\n",
    "import copy\n",
    "import os\n",
    "import matplotlib.pyplot as plt\n",
    "from tqdm import tqdm_notebook as tqdm\n",
    "import time\n",
    "from decimal import Decimal\n",
    "from sklearn.metrics import mean_absolute_error\n",
    "from sklearn.metrics import mean_squared_error\n",
    "from sklearn.metrics import r2_score\n",
    "from sklearn.metrics.cluster import adjusted_rand_score\n",
    "from sklearn.preprocessing import LabelEncoder\n",
    "from numba import jit, void, f8\n",
    "from itertools import combinations_with_replacement\n",
    "import operator\n",
    "from scipy.optimize import fmin_l_bfgs_b , minimize\n",
    "from sklearn.metrics.cluster import adjusted_rand_score\n",
    "from sklearn.metrics import mean_absolute_error\n",
    "from sklearn.metrics import mean_squared_error\n",
    "from sklearn.metrics import r2_score\n",
    "\n",
    "#import GPy\n",
    "from scipy import linalg\n",
    "import csv\n",
    "from sklearn.datasets import make_classification\n",
    "import math\n",
    "import datetime"
   ]
  },
  {
   "cell_type": "code",
   "execution_count": 2,
   "id": "9ef8a900",
   "metadata": {},
   "outputs": [],
   "source": [
    "#-------------------\n",
    "class Data:\n",
    "    def __init__(self,x,y,u,id):\n",
    "        self.x = x\n",
    "        self.y = y\n",
    "        self.u = u #抽出クラスタかノイズクラスタかどうか\n",
    "        self.cluster_number = 0 #最終的なクラスタ番号\n",
    "        self.id = id\n",
    "#-------------------"
   ]
  },
  {
   "cell_type": "code",
   "execution_count": 3,
   "id": "330cffb6",
   "metadata": {},
   "outputs": [],
   "source": [
    "class SCRM:\n",
    "    #-------------------\n",
    "    # コンストラクタ\n",
    "    # max_iter: 最大ループ回数．無限ループ阻止用\n",
    "    # random_seed: シード値，再現性担保のため，50で固定\n",
    "    def __init__(self,random_seed):\n",
    "        self.max_iter = 1000\n",
    "        self.random_seed = random_seed\n",
    "        np.random.seed(random_seed)\n",
    "    #-------------------\n",
    "    \n",
    "    #-------------------\n",
    "    # データと回帰線をプロット\n",
    "    # \n",
    "    def plot(self,X,Y,ex_data_list,ex_beta_list,n_cluster,path):\n",
    "        N = X.shape[0]\n",
    "        colors = [\"b\",\"r\",\"g\",\"c\",\"m\",\"y\",\"k\",\"w\"]\n",
    "        markers = [\"o\",\"+\",\"x\",\"v\",\"＊\", \"^\", \"<\", \">\"]\n",
    "        x = np.arange(np.amin(X),np.amax(X) + 1)\n",
    "        y = []\n",
    "        #クラスタ数個分の回帰線をbeta_listを基に作成\n",
    "        for i in range(n_cluster): \n",
    "            y.append(ex_beta_list[i][0][0] * x + ex_beta_list[i][0][1])\n",
    "        y = np.array(y)\n",
    "        plt.figure(figsize=(5,5))\n",
    "        plt.xlim(np.min(X)-1,np.max(X)+1,1)\n",
    "        plt.ylim(np.min(Y)-1,np.max(Y)+1,1)\n",
    "        plt.xlabel(\"x\")\n",
    "        plt.ylabel(\"y\")\n",
    "        #クラスタ番号ごとにデータ点をプロット\n",
    "        for i in range(N):\n",
    "            plt.scatter(ex_data_list[i].x,ex_data_list[i].y,marker=markers[ex_data_list[i].cluster_number],s=35,edgecolor='k',c = colors[ex_data_list[i].cluster_number])\n",
    "        #クラスタごとに回帰線をプロット\n",
    "        for i in range(n_cluster):\n",
    "            plt.plot(x, y[i] , c = colors[i])\n",
    "        #pathにpngファイルを保存\n",
    "        plt.savefig(os.path.join(path)+\"figure.png\")\n",
    "        plt.show()\n",
    "    #-------------------\n",
    "    \n",
    "    #-------------------\n",
    "    # 今は使用していない\n",
    "    # 対角行列を作成するメソッド．\n",
    "    def calc_diag_U_list(U):\n",
    "        diag_U_list = []\n",
    "        for i in range(2):\n",
    "            diag_U_list.append(np.diag(U[i]))\n",
    "        return diag_U_list\n",
    "    #-------------------\n",
    "    \n",
    "    #-------------------\n",
    "    # data_listから帰属度行列Uを作成\n",
    "    # U: データ数×クラスタ数の行列\n",
    "    def calc_U(self,data_list,n_cluster):\n",
    "        N = len(data_list)\n",
    "        U_list = np.zeros([n_cluster,N])\n",
    "        for i in range(n_cluster):\n",
    "            for j in range(N):\n",
    "                if data_list[j].cluster_number == i:\n",
    "                    U_list[i,j] = 1\n",
    "        return U_list\n",
    "    #-------------------\n",
    "    \n",
    "    \n",
    "    #-------------------\n",
    "    # ARI計算用のUのラベルを計算\n",
    "    def calc_U_label(self,U):\n",
    "        U_label = []\n",
    "        U_label = np.argmax(U,axis=0)\n",
    "        return U_label\n",
    "    #-------------------\n",
    "    \n",
    "    def calc_U_new(self,X,Y,U,n_cluster):\n",
    "        N = len(X)\n",
    "        U_list = np.zeros([n_cluster,N])\n",
    "        for i in range(n_cluster):\n",
    "            for j in range(N):\n",
    "                if U[i] == i:\n",
    "                    U_list[i,j] = 1\n",
    "        return U_list\n",
    "    #-------------------\n",
    "    # data_listの帰属度から\n",
    "    def calc_beta_list(self,data_list):\n",
    "        X = []\n",
    "        Y = []\n",
    "        U = []\n",
    "        for i in range(len(data_list)):\n",
    "            X.append(data_list[i].x)\n",
    "            Y.append(data_list[i].y)\n",
    "            U.append(data_list[i].u)\n",
    "        X = np.array(X).reshape(len(X),1)\n",
    "        Y = np.array(Y).reshape(len(Y),1)\n",
    "        U = self.calc_U(data_list,2)\n",
    "        diag_U = []\n",
    "        for i in range(2):\n",
    "            diag_U.append(np.diag(U[i]))\n",
    "        beta_list = []\n",
    "        ones = np.ones([len(X),1])\n",
    "        X = np.concatenate((X,ones), axis = 1) \n",
    "        for i in range(2):\n",
    "            beta_matrix = np.linalg.pinv(X.T @ diag_U[i] @ X) @ X.T @ diag_U[i] @ Y\n",
    "            beta_list.append(beta_matrix)\n",
    "        return beta_list\n",
    "    #-------------------\n",
    "                   \n",
    "    #-------------------\n",
    "    #              \n",
    "    def update_U(self,data_list,noise_param,beta_list):\n",
    "        for i in range(len(data_list)):\n",
    "            distance = (data_list[i].y - (beta_list[0][0]*data_list[i].x + beta_list[0][1]))**2\n",
    "            if distance <= noise_param:\n",
    "                data_list[i].u = 1\n",
    "            else:\n",
    "                data_list[i].u = 0\n",
    "    \n",
    "    #-------------------\n",
    "    def calc_noise_param(self,lam,data_list,beta_list,noise_param):\n",
    "        N = len(data_list)\n",
    "        residual_sum = 0\n",
    "        for i in range(N):\n",
    "            if data_list[i].u == 1:\n",
    "                residual_sum += (data_list[i].y - (beta_list[0][0] * data_list[i].x + beta_list[0][1]))**2\n",
    "            else:\n",
    "                residual_sum += noise_param\n",
    "        print(\"残差の和:\",residual_sum) \n",
    "        return lam * residual_sum / N    \n",
    "    #-------------------\n",
    "    \n",
    "    #-------------------\n",
    "    def calc_ARI(self,true_label,predict_label):\n",
    "        ARI = adjusted_rand_score(true_label,predict_label)\n",
    "        return ARI\n",
    "    #-------------------\n",
    "    \n",
    "    #-------------------\n",
    "    def print_info(self,labels,time):\n",
    "        print(\"クラスタ数:\",self.n_cluster)\n",
    "        print(\"ARIの値:\",self.calc_ARI(labels,self.predict_label)) \n",
    "        print(\"実行時間:\",time) \n",
    "        print(\"\")\n",
    "        \n",
    "    #-------------------\n",
    "    def log_save(self,path,lam,labels,time):\n",
    "        d_today = datetime.date.today()\n",
    "        d_now = datetime.datetime.now() \n",
    "        f = open(path + \"log.txt\", 'w')\n",
    "        f.write(\"実験に使用した記録まとめ\\n\")\n",
    "        f.write(str(d_now) + \"\\n\")\n",
    "        f.write(\"クラスタ数:\" + str(self.n_cluster) + \"\\n\")\n",
    "        f.write(\"ノイズパラメータ:\" + str(lam) +\"\\n\")\n",
    "        f.write(\"ARIの値:\" + str(self.calc_ARI(labels,self.predict_label)) + \"\\n\")\n",
    "        f.write(\"実行時間:\" + str(time) + \"\\n\")\n",
    "        f.write(\"random_seed値:\" + str(self.random_seed) +\"\\n\") \n",
    "        f.close()\n",
    "    #-------------------\n",
    "    \n",
    "    #-------------------\n",
    "    def sequential_plot(self,beta_list,data_list):\n",
    "        print(beta_list)\n",
    "        X = []\n",
    "        Y = []\n",
    "        for i in range(len(data_list)):\n",
    "            X.append(data_list[i].x)\n",
    "            Y.append(data_list[i].y)\n",
    "        X = np.array(X)\n",
    "        Y = np.array(Y)\n",
    "        N = X.shape[0]\n",
    "        x = np.arange(np.amin(X),np.amax(X) + 1)\n",
    "        y = []\n",
    "        y.append(beta_list[0][0] * x + beta_list[0][1])\n",
    "        c = [\"r\",\"b\"]\n",
    "        markers = [\"+\",\"o\"]\n",
    "        plt.figure(figsize=(5,5))\n",
    "        plt.xlim(np.min(X)-1,np.max(X)+1,1)\n",
    "        plt.ylim(np.min(Y)-1,np.max(Y)+1,1)\n",
    "        plt.xlabel(\"x\")\n",
    "        plt.ylabel(\"y\")\n",
    "        for i in range(N):\n",
    "            plt.scatter(X[i],Y[i],marker=markers[data_list[i].u],s=35,edgecolor='k',c = c[data_list[i].u])\n",
    "        plt.plot(x,y[0],c = c[1])\n",
    "        plt.show()\n",
    "    #-------------------\n",
    "    \n",
    "    #-------------------\n",
    "    def fit(self,X,Y,lam):\n",
    "        self.ex_data_list = []\n",
    "        self.ex_beta_list = []\n",
    "        self.ex_U_list = []\n",
    "        self.predict_label = []\n",
    "        self.n_cluster = 1\n",
    "        cluster_number = 0\n",
    "        noise_param = 0\n",
    "        \n",
    "        #data_listを作成．ここで，Dataクラスを初期化する．\n",
    "        data_list = []\n",
    "        for i in range(X.shape[0]):\n",
    "            data = Data(X[i],Y[i],1,i)\n",
    "            data_list.append(data)\n",
    "        count = 0\n",
    "        while count < self.max_iter:\n",
    "            N = len(data_list)\n",
    "            beta_list = []\n",
    "            temp_data_list = []\n",
    "            #帰属度を0か1に設定\n",
    "            #0:ノイズクラスタ\n",
    "            #1:抽出クラスタ\n",
    "            for i in range(N):\n",
    "                data_list[i].u = np.random.randint(2)\n",
    "                #data_list[i].u = 1\n",
    "            beta_list = self.calc_beta_list(data_list)\n",
    "            noise_param = self.calc_noise_param(lam,data_list,beta_list,noise_param)\n",
    "            print(\"ノイズパラメータD\",noise_param)\n",
    "            for i in tqdm(range(300)):\n",
    "                beta_list = self.calc_beta_list(data_list)\n",
    "                self.update_U(data_list,noise_param,beta_list)\n",
    "            self.ex_beta_list.append(beta_list)\n",
    "            noise_param = self.calc_noise_param(lam,data_list,beta_list,noise_param)\n",
    "            self.sequential_plot(beta_list,data_list)\n",
    "            for i in range(N):\n",
    "                #u=0の場合，仮のリストに保存\n",
    "                if data_list[i].u == 0:\n",
    "                    temp_data_list.append(data_list[i])\n",
    "                #u=1の場合，クラスタ番号を登録して抽出．\n",
    "                if data_list[i].u == 1: \n",
    "                    data_list[i].cluster_number = cluster_number\n",
    "                    #print(data_list[i].id,\"番目:クラスタ番号は，\",data_list[i].cluster_number,\"x,y:\",data_list[i].x,data_list[i].y)\n",
    "                    self.ex_data_list.append(data_list[i])\n",
    "            data_list = temp_data_list\n",
    "            \n",
    "            if len(data_list) == 0:\n",
    "                break\n",
    "            cluster_number += 1\n",
    "            self.n_cluster += 1\n",
    "            count += 1\n",
    "       #print(self.ex_beta_list[0])\n",
    "        self.ex_U_list = self.calc_U(self.ex_data_list,self.n_cluster)\n",
    "        self.predict_label = self.calc_U_label(self.ex_U_list)\n",
    "    #-------------------"
   ]
  },
  {
   "cell_type": "code",
   "execution_count": 8,
   "id": "1598e2dd",
   "metadata": {},
   "outputs": [
    {
     "name": "stdout",
     "output_type": "stream",
     "text": [
      "1回目の実行\n",
      "残差の和: [63.12635966]\n",
      "ノイズパラメータD [1.89379079]\n"
     ]
    },
    {
     "name": "stderr",
     "output_type": "stream",
     "text": [
      "<ipython-input-3-244747ea08a3>:213: TqdmDeprecationWarning: This function will be removed in tqdm==5.0.0\n",
      "Please use `tqdm.notebook.tqdm` instead of `tqdm.tqdm_notebook`\n",
      "  for i in tqdm(range(300)):\n"
     ]
    },
    {
     "data": {
      "application/vnd.jupyter.widget-view+json": {
       "model_id": "1241e075b39b48f98fa6047ef9bb06eb",
       "version_major": 2,
       "version_minor": 0
      },
      "text/plain": [
       "  0%|          | 0/300 [00:00<?, ?it/s]"
      ]
     },
     "metadata": {},
     "output_type": "display_data"
    },
    {
     "name": "stdout",
     "output_type": "stream",
     "text": [
      "残差の和: [113.10750075]\n",
      "[array([[-0.00693266],\n",
      "       [-0.96461388]]), array([[0.],\n",
      "       [0.]])]\n"
     ]
    },
    {
     "name": "stderr",
     "output_type": "stream",
     "text": [
      "<ipython-input-3-244747ea08a3>:179: UserWarning: You passed a edgecolor/edgecolors ('k') for an unfilled marker ('+').  Matplotlib is ignoring the edgecolor in favor of the facecolor.  This behavior may change in the future.\n",
      "  plt.scatter(X[i],Y[i],marker=markers[data_list[i].u],s=35,edgecolor='k',c = c[data_list[i].u])\n"
     ]
    },
    {
     "data": {
      "image/png": "[encoded data removed]",
      "text/plain": [
       "<Figure size 360x360 with 1 Axes>"
      ]
     },
     "metadata": {
      "needs_background": "light"
     },
     "output_type": "display_data"
    },
    {
     "name": "stdout",
     "output_type": "stream",
     "text": [
      "残差の和: [34.29045666]\n",
      "ノイズパラメータD [4.67597136]\n"
     ]
    },
    {
     "name": "stderr",
     "output_type": "stream",
     "text": [
      "<ipython-input-3-244747ea08a3>:213: TqdmDeprecationWarning: This function will be removed in tqdm==5.0.0\n",
      "Please use `tqdm.notebook.tqdm` instead of `tqdm.tqdm_notebook`\n",
      "  for i in tqdm(range(300)):\n"
     ]
    },
    {
     "data": {
      "application/vnd.jupyter.widget-view+json": {
       "model_id": "aa15598372da41cbb924cdc618a2ee0b",
       "version_major": 2,
       "version_minor": 0
      },
      "text/plain": [
       "  0%|          | 0/300 [00:00<?, ?it/s]"
      ]
     },
     "metadata": {},
     "output_type": "display_data"
    },
    {
     "name": "stdout",
     "output_type": "stream",
     "text": [
      "残差の和: [0.8296065]\n",
      "[array([[-0.00192647],\n",
      "       [ 0.73053585]]), array([[0.],\n",
      "       [0.]])]\n"
     ]
    },
    {
     "data": {
      "image/png": "[encoded data removed]",
      "text/plain": [
       "<Figure size 360x360 with 1 Axes>"
      ]
     },
     "metadata": {
      "needs_background": "light"
     },
     "output_type": "display_data"
    },
    {
     "name": "stderr",
     "output_type": "stream",
     "text": [
      "<ipython-input-3-244747ea08a3>:32: UserWarning: You passed a edgecolor/edgecolors ('k') for an unfilled marker ('+').  Matplotlib is ignoring the edgecolor in favor of the facecolor.  This behavior may change in the future.\n",
      "  plt.scatter(ex_data_list[i].x,ex_data_list[i].y,marker=markers[ex_data_list[i].cluster_number],s=35,edgecolor='k',c = colors[ex_data_list[i].cluster_number])\n"
     ]
    },
    {
     "data": {
      "image/png": "[encoded data removed]",
      "text/plain": [
       "<Figure size 360x360 with 1 Axes>"
      ]
     },
     "metadata": {
      "needs_background": "light"
     },
     "output_type": "display_data"
    },
    {
     "name": "stdout",
     "output_type": "stream",
     "text": [
      "クラスタ数: 2\n",
      "ARIの値: 0.18796992481203006\n",
      "実行時間: 1.2161478996276855\n",
      "\n"
     ]
    }
   ],
   "source": [
    "#-------------------\n",
    "\n",
    "def make_path(model,data_name,lam,labels):\n",
    "    d_today = str(datetime.date.today())\n",
    "    folder_name =  \"クラスタ数\" + str(model.n_cluster)+ \"ARI\"+ str(round(model.calc_ARI(labels,model.predict_label),2)) + \"ラムダ\" + str(round(lam,2)) + \"シード値\" + str(model.random_seed)\n",
    "    path = \"./SCRM/\"\n",
    "    my_makedirs(path + d_today)\n",
    "    my_makedirs(path + d_today + \"/\" + data_name)\n",
    "    my_makedirs(path + d_today + \"/\" + data_name + \"/\" + folder_name)\n",
    "    return path + d_today + \"/\" + data_name + \"/\" + folder_name + \"/\"\n",
    "#-------------------\n",
    "\n",
    "#-------------------\n",
    "def my_makedirs(path):\n",
    "    if not os.path.isdir(path):\n",
    "        os.makedirs(path)\n",
    "#-------------------\n",
    "\n",
    "#-------------------\n",
    "def main():\n",
    "    \n",
    "    #lam_list = np.arange(1.2,2.5,0.1)\n",
    "    lam_list = [3]\n",
    "    random_list = np.arange(1,105,1)\n",
    "    ARI_list = []\n",
    "    RMSE_list = []\n",
    "    \n",
    "    data_name = \"data10\"\n",
    "    data = np.loadtxt(\"./data/\"+ data_name +\"/data.txt\", dtype=float)\n",
    "    X = data[0, :]\n",
    "    Y = data[1, :]\n",
    "    # X = np.loadtxt(\"data/\"+ data_name +\"/sumX.txt\")\n",
    "    # Y = np.loadtxt(\"data/\"+ data_name +\"/sumY.txt\")\n",
    "    labels = np.loadtxt(\"data/\"+ data_name +\"/labels.txt\")\n",
    "    labels = np.array(labels)\n",
    "    count = 1\n",
    "    for i in range(len(lam_list)):\n",
    "        #for j in tqdm(range(len(random_list))):\n",
    "        print(str(count) + \"回目の実行\") \n",
    "        t1 = time.time()\n",
    "        model = SCRM(37)\n",
    "        pred_labels = model.fit(X,Y,lam_list[i])\n",
    "        t2 = time.time()\n",
    "        path = make_path(model,data_name,lam_list[i],labels)\n",
    "        model.plot(X,Y,model.ex_data_list,model.ex_beta_list,model.n_cluster,path)\n",
    "        model.print_info(labels,t2-t1)\n",
    "        model.log_save(path,lam_list[i],labels,t2-t1)\n",
    "        ARI_list.append(model.calc_ARI(labels,model.predict_label))\n",
    "        count += 1\n",
    "    '''\n",
    "    plt.figure(figsize=(5,5))\n",
    "    plt.plot(lam_list,ARI_list)\n",
    "    plt.title(\"Lambda transition\",{\"fontsize\": 20})\n",
    "    plt.xlabel(\"Lambda\", {\"fontsize\": 15})\n",
    "    plt.ylabel(\"ARI Value\", {\"fontsize\": 15})\n",
    "    plt.show()\n",
    "    '''\n",
    "#-------------------\n",
    "\n",
    "#-------------------\n",
    "if __name__ == \"__main__\":\n",
    "    main()\n",
    "#-------------------"
   ]
  },
  {
   "cell_type": "markdown",
   "id": "603b6355-7a01-4730-95de-a337afbc1b86",
   "metadata": {},
   "source": [
    "#### "
   ]
  }
 ],
 "metadata": {
  "kernelspec": {
   "display_name": "Python 3",
   "language": "python",
   "name": "python3"
  },
  "language_info": {
   "codemirror_mode": {
    "name": "ipython",
    "version": 3
   },
   "file_extension": ".py",
   "mimetype": "text/x-python",
   "name": "python",
   "nbconvert_exporter": "python",
   "pygments_lexer": "ipython3",
   "version": "3.9.1"
  }
 },
 "nbformat": 4,
 "nbformat_minor": 5
}
